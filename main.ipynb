{
 "cells": [
  {
   "cell_type": "markdown",
   "id": "77461879",
   "metadata": {},
   "source": [
    "# Exact solution of a linear acoustic propagation PDE."
   ]
  },
  {
   "attachments": {},
   "cell_type": "markdown",
   "id": "ab5a52a3",
   "metadata": {},
   "source": [
    "Implementing a function that calculates the pressure field at time $t>0$ at cylindrical coordinates $(r,\\theta)$. \n",
    "\n",
    "We let the upper integration boundary of the solution formula be a variable argument $\\Omega>0$ which is supposed to approach infinity to approximate the improper integral (1)."
   ]
  },
  {
   "cell_type": "code",
   "execution_count": 1,
   "id": "d852f113",
   "metadata": {},
   "outputs": [
    {
     "data": {
      "text/plain": [
       "pulse_tot (generic function with 1 method)"
      ]
     },
     "metadata": {},
     "output_type": "display_data"
    }
   ],
   "source": [
    "using QuadGK\n",
    "using SpecialFunctions\n",
    "\n",
    "#function to calculate the integrand, which would then be used for quadgk.\n",
    "function pulse_int(t, r, theta, w)\n",
    "    M = 0.5\n",
    "    b = log(2)/(w^2)\n",
    "    integrand(w) = A / (2*b) * exp(-w^2 / (4*b)) * besselj(0,w*sqrt(r^2 + (M*t)^2 - 2r*(M*t)*cos(theta))) * w * cos(w*t)\n",
    "    return integrand\n",
    "end\n",
    "\n",
    "#function to calculate the whole integral.\n",
    "function pulse_tot(t, r, theta, w, omega)\n",
    "    M = 0.5\n",
    "    b = log(2)/(w^2)\n",
    "    integrand(w) = A / (2 * b) * exp(-w^2 / (4 * b)) * besselj(0, w * sqrt(r^2 + (M * t)^2 - 2 * r * (M * t) * cos(theta))) * w * cos(w * t)\n",
    "    return quadgk(integrand, 0, omega)[1]\n",
    "end"
   ]
  },
  {
   "attachments": {},
   "cell_type": "markdown",
   "id": "4e294bbc",
   "metadata": {},
   "source": [
    "We now let the amplitude of the pulse be $A=0.001$ and its half-width be $w=3.0$. And we test our function at $t=1,r=1,\\theta=0$ and different upper integration boundaries $\\Omega>0$. \n",
    "\n",
    "Next, we find the smallest value of $\\Omega$ such that the computed value of our function does not change by more than $0.01\\%$ by changing from $\\Omega$ to $2\\Omega$ and we compare this value with the exact value at $\\Omega=\\infty$, which can be achieved by using the argument $Inf$ as upper boundary in 'quadgk'."
   ]
  },
  {
   "cell_type": "code",
   "execution_count": null,
   "id": "bc41b52e",
   "metadata": {},
   "outputs": [
    {
     "name": "stdout",
     "output_type": "stream",
     "text": [
      "Smallest Omega: 3.2\n",
      "Computed Value: 0.000839984001921987\n",
      "Exact Value: 0.0008399840019219854\n"
     ]
    }
   ],
   "source": [
    "#parameters\n",
    "A = 0.001\n",
    "w = 3.0\n",
    "t = 1.0\n",
    "r = 1.0\n",
    "theta = 0.0\n",
    "b = log(2) / (w^2)\n",
    "\n",
    "omega = 0.1\n",
    "initial_omega = 0.000001\n",
    "\n",
    "prev = pulse_tot(t, r, theta, w, initial_omega)\n",
    "new = prev\n",
    "\n",
    "#while loop to find the smallest desirable omega.\n",
    "while true\n",
    "    new = pulse_tot(t, r, theta, w, omega)\n",
    "\n",
    "    if (abs(new - prev) / prev) < 0.0001\n",
    "        break\n",
    "    end\n",
    "\n",
    "    prev = new\n",
    "    omega *= 2\n",
    "end\n",
    "\n",
    "exact_value = pulse_tot(t, r, theta, w, Inf)\n",
    "\n",
    "println(\"Smallest Omega: \", omega)\n",
    "println(\"Computed Value: \", new)\n",
    "println(\"Exact Value: \", exact_value)"
   ]
  },
  {
   "cell_type": "code",
   "execution_count": 3,
   "id": "d24b53e2",
   "metadata": {},
   "outputs": [
    {
     "name": "stdout",
     "output_type": "stream",
     "text": [
      "Value: 0.000839984001921987\n",
      "Exact value: 0.0008399840019219854\n"
     ]
    }
   ],
   "source": [
    "#obtaining the exact value with inf at the upper limit.\n",
    "omega_val = pulse_tot(t, r, theta, w, omega)\n",
    "exact = pulse_tot(t, r, theta, w, Inf)\n",
    "\n",
    "println(\"Value: \", omega_val)\n",
    "println(\"Exact value: \", exact)"
   ]
  },
  {
   "attachments": {},
   "cell_type": "markdown",
   "id": "630a8e11",
   "metadata": {},
   "source": [
    "Now, we test our function at $t=1,r=1000,\\theta=0$ and $\\Omega=\\infty$ in two different ways: First, by setting the relative tolerance argument (rtol) in  'quadgk' to 1e-7 and, second, by setting the absolute tolerance argument (atol) in 'quadgk' to 1e-7."
   ]
  },
  {
   "cell_type": "code",
   "execution_count": 4,
   "id": "a8dac548",
   "metadata": {},
   "outputs": [
    {
     "name": "stdout",
     "output_type": "stream",
     "text": [
      "Result with rtol=1e-7: -9.458559888538118e-22\n",
      "Result with atol=1e-7: -1.6464404249962117e-6\n"
     ]
    }
   ],
   "source": [
    "#parameters\n",
    "A = 0.001\n",
    "w = 3.0\n",
    "t = 1.0\n",
    "r = 1000.0 # this makes some difference.\n",
    "theta = 0.0\n",
    "\n",
    "Omega = Inf # upper limit\n",
    "\n",
    "#results with different tolerances (relative & absolute)\n",
    "result1 = quadgk(pulse_int(t, r, theta, w), 0, Omega, rtol=1e-7)[1]\n",
    "result2 = quadgk(pulse_int(t, r, theta, w), 0, Omega, atol=1e-7)[1]\n",
    "\n",
    "println(\"Result with rtol=1e-7: \", result1)\n",
    "println(\"Result with atol=1e-7: \", result2)"
   ]
  },
  {
   "attachments": {},
   "cell_type": "markdown",
   "id": "946e72d3",
   "metadata": {},
   "source": [
    "We evaluate our function at two different times $t_1=500\\Delta t, t_2=1150\\Delta t$, where $\\Delta t =0.0569$, and we plot the pressure profile along the $x$ axis from $0$ to $100$, i.e. at $\\theta=0,r\\in(0,100)$. \n",
    "\n",
    "Let's also compare our results with Fig. 11 from the following article: http://acoustics.ae.illinois.edu/pdfs/tam-drp-1993.pdf."
   ]
  },
  {
   "cell_type": "code",
   "execution_count": null,
   "id": "d560caf5",
   "metadata": {},
   "outputs": [],
   "source": [
    "using Plots, LaTeXStrings\n",
    "import Printf\n",
    "using QuadGK\n",
    "\n",
    "#parameters\n",
    "theta = 0\n",
    "xs = 2.0\n",
    "A = 1.0\n",
    "w = 3.0\n",
    "M = 0.5\n",
    "\n",
    "dt = 0.0569\n",
    "t1 = 500dt\n",
    "t2 = 1150dt\n",
    "\n",
    "Omega = Inf #upper limit\n",
    "\n",
    "#range and number of points\n",
    "num_points = 75\n",
    "r = range(-100.0, 100.0, length=num_points)\n",
    "\n",
    "#plotting the pressure profile at both t_1 and t_2\n",
    "for t in (t1, t2)\n",
    "    pressure_profile = zeros(num_points)\n",
    "    for i in 1:num_points\n",
    "        pressure_profile[i] = pulse_tot(t, r[i], theta, w, Omega)\n",
    "    end\n",
    "    plt = plot(r, pressure_profile, xlabel=\"x\", ylabel=\"Pressure\", label=\"t=$(t/dt)\", linecolor=:black)\n",
    "    savefig(plt, \"./figures/profile/pressure_t$(t/dt).png\")\n",
    "end"
   ]
  },
  {
   "attachments": {},
   "cell_type": "markdown",
   "id": "1ad07038",
   "metadata": {},
   "source": [
    "The exact solution for the pressure field of the configuration in the previous part is given by\n",
    "\\begin{equation}\n",
    " p(r,\\theta,t) =  \\int_{0}^{\\infty} \\mathcal{H}\\{\\phi'_0\\}(\\omega) \\left(  J_0\\left( \\omega \\sqrt{r^2+ x_s^2-2r\\cdot x_s \\cdot \\cos(\\theta)} + \\right) -  J_0\\left( \\omega \\sqrt{r^2+ x_s^2+2r\\cdot x_s  \\cos(\\theta)} + \\right) \\right)\\cdot \\omega \\cos(\\omega t)   d\\omega \\ \\ \\ \\ \\ \\ \\ \\ \\   (3)\n",
    "\\end{equation}\n",
    "where $\\mathcal{H}\\{\\phi'_0\\}(\\omega)$ is given by expression (2). \n",
    "\n",
    "For $x_s=1.0$, we implement a function that evaluates $p$ at all times $t>0$ and locations $(r,\\theta)$. Let the pulse amplitude be $A=1.0$ and inverse pulse width be $b=2$. We also verify that our function computes the correct result on the $y$ axis as determined in the previous part."
   ]
  },
  {
   "cell_type": "code",
   "execution_count": 8,
   "id": "b181ab59",
   "metadata": {},
   "outputs": [
    {
     "name": "stdout",
     "output_type": "stream",
     "text": [
      "Pressure at (r,θ) = (1.0, 1.5707963267948966) and t = 0.0 is: 2.2733866226186134e-17\n"
     ]
    },
    {
     "name": "stdout",
     "output_type": "stream",
     "text": [
      "Pressure at (r,θ) = (1.0, 1.5707963267948966) and t = 1.1 is: 2.3713797774720285e-17\n"
     ]
    },
    {
     "name": "stdout",
     "output_type": "stream",
     "text": [
      "Pressure at (r,θ) = (1.0, 1.5707963267948966) and t = 2.2 is: -2.205494212028711e-17"
     ]
    },
    {
     "name": "stdout",
     "output_type": "stream",
     "text": [
      "\n",
      "Pressure at (r,θ) = (1.0, 1.5707963267948966) and t = 3.3 is: 6.012691233952722e-18"
     ]
    },
    {
     "name": "stdout",
     "output_type": "stream",
     "text": [
      "\n",
      "Pressure at (r,θ) = (1.0, 1.5707963267948966) and t = 4.4 is: 2.3863486238049883e-18\n"
     ]
    },
    {
     "name": "stdout",
     "output_type": "stream",
     "text": [
      "Pressure at (r,θ) = (1.0, 1.5707963267948966) and t = 5.5 is: -1.0335695463696314e-18"
     ]
    },
    {
     "name": "stdout",
     "output_type": "stream",
     "text": [
      "\n",
      "Pressure at (r,θ) = (1.0, 1.5707963267948966) and t = 6.6 is: 1.9576907457112998e-19"
     ]
    },
    {
     "name": "stdout",
     "output_type": "stream",
     "text": [
      "\n",
      "Pressure at (r,θ) = (1.0, 1.5707963267948966) and t = 7.7 is: 1.1848770431361342e-18\n"
     ]
    },
    {
     "name": "stdout",
     "output_type": "stream",
     "text": [
      "Pressure at (r,θ) = (1.0, 1.5707963267948966) and t = 8.8 is: -1.0743664802742749e-19\n"
     ]
    },
    {
     "name": "stdout",
     "output_type": "stream",
     "text": [
      "Pressure at (r,θ) = (1.0, 1.5707963267948966) and t = 9.9 is: -3.223860530212107e-19"
     ]
    },
    {
     "name": "stdout",
     "output_type": "stream",
     "text": [
      "\n",
      "Pressure at (r,θ) = (1.0, 1.5707963267948966) and t = 11.0 is: 4.627947909527966e-19\n"
     ]
    }
   ],
   "source": [
    "using QuadGK\n",
    "using SpecialFunctions\n",
    "\n",
    "#parameters\n",
    "A = 1.0\n",
    "b = 2.0\n",
    "xs = 1.0\n",
    "\n",
    "function pressure_field(t, r, theta, A, b, xs)\n",
    "    hankel(w) = A / (2 * b) * exp(-w^2 / (4 * b))\n",
    "    integrand(w) = H(w, A, b) * (besselj(0, w * sqrt(r^2 + xs^2 - 2 * r * xs * cos(theta))) - besselj(0, w * sqrt(r^2 + xs^2 + 2 * r * xs * cos(theta)))) * w * cos(w * t)\n",
    "    p, _ = quadgk(integrand, 0, Inf)\n",
    "    return p\n",
    "end\n",
    "\n",
    "num_points = 11\n",
    "t_values = range(0, 11, num_points)\n",
    "\n",
    "r = xs\n",
    "theta = pi / 2\n",
    "\n",
    "pressure_val = zeros(num_points)\n",
    "\n",
    "#evaluating the function at different t's.\n",
    "for t in t_values\n",
    "    pressure_val = pressure_field(t, r, theta, A, b, xs)\n",
    "    println(\"Pressure at (r,θ) = ($(r), $(theta)) and t = $(t) is: \", pressure_val)\n",
    "end"
   ]
  },
  {
   "attachments": {},
   "cell_type": "markdown",
   "id": "10335250",
   "metadata": {},
   "source": [
    "We are indeed getting near-zero values for points in the y-axis!"
   ]
  },
  {
   "attachments": {},
   "cell_type": "markdown",
   "id": "c5d0d911",
   "metadata": {},
   "source": [
    "For the same parameters, let's create an animation of the pressure field on the $x$ axis ranging from $0$ to $5$ for times $0<t<7$."
   ]
  },
  {
   "cell_type": "code",
   "execution_count": 6,
   "id": "47cee07b",
   "metadata": {},
   "outputs": [
    {
     "data": {
      "text/plain": [
       "pressure_field (generic function with 1 method)"
      ]
     },
     "metadata": {},
     "output_type": "display_data"
    }
   ],
   "source": [
    "using Plots, LaTeXStrings, QuadGK, SpecialFunctions\n",
    "import Printf\n",
    "\n",
    "#parameters\n",
    "x0 = 0\n",
    "xs = 1.0\n",
    "b = 2.0\n",
    "\n",
    "Nx = 21\n",
    "Ny = 21\n",
    "w = 3.0\n",
    "\n",
    "Nt = 10\n",
    "t0 = 0.000\n",
    "t1 = 7.0\n",
    "\n",
    "c = 0.05\n",
    "A = 1.0\n",
    "\n",
    "function pressure_field(t, r, theta, A, b, xs)\n",
    "    hankel(w) = A / (2 * b) * exp(-w^2 / (4 * b))\n",
    "    integrand(w) = hankel(w) * (besselj(0, w * sqrt(r^2 + xs^2 - 2 * r * xs * theta)) - besselj(0, w * sqrt(r^2 + xs^2 + 2 * r * xs * theta))) * w * cos(w * t)\n",
    "    p, _ = quadgk(integrand, 0, Inf)\n",
    "    return p\n",
    "end"
   ]
  },
  {
   "cell_type": "code",
   "execution_count": null,
   "id": "c762a85f",
   "metadata": {},
   "outputs": [],
   "source": [
    "#spatial and time grid\n",
    "x = range(0.001, 5.0, Nx)\n",
    "y = range(-3, 3, Ny)\n",
    "t = LinRange(t0, t1, Nt)\n",
    "\n",
    "for i in 1:Nt\n",
    "\n",
    "    time = t[i]\n",
    "\n",
    "    f(x, y) = begin\n",
    "        r = sqrt((x + c * time)^2 + y^2)\n",
    "        pressure_field(time, r, x/r, A, b, xs)\n",
    "    end\n",
    "\n",
    "    plt = Plots.contour(x, y, f, fill = true, c=:cividis)\n",
    "    plt = Plots.title!(plt, \"Time = \" * string(time) * \" seconds\")\n",
    "    Plots.png(plt, \"./figures/anim_figs/part-H/$(lpad(i, 6, \"0\")).png\")\n",
    "end\n",
    "\n",
    "fnames = [Printf.@sprintf(\"./figures/anim_figs/part-H/%06d.png\", i) for i in 1:Nt]\n",
    "an = Animation(\"./figures/anim_figs/part-H\", fnames)\n",
    "Plots.buildanimation(an, \"./figures/animation/Animation_pressure_field.gif\", fps = 1)"
   ]
  },
  {
   "cell_type": "code",
   "execution_count": 21,
   "id": "1b2adb3c",
   "metadata": {},
   "outputs": [],
   "source": [
    "#calculating the time the original pulse hits the y-axis and the time it returns to the location (xs, 0).\n",
    "max_y = -Inf\n",
    "max_xs = -Inf\n",
    "time_y = 0\n",
    "time_xs = 0\n",
    "new_t = LinRange(t0, t1, Nt)\n",
    "\n",
    "zero_xs = Inf\n",
    "time_zero_xs = 0\n",
    "\n",
    "nonzero_xs = Inf\n",
    "time_nonzero_xs = 0\n",
    "\n",
    "for i in 1:Nt\n",
    "    t = new_t[i]\n",
    "    p_y = pressure_field(t, r, π/2, A, b, xs)\n",
    "    p_xs = pressure_field(t, r, 0, A, b, xs)\n",
    "\n",
    "    if p_y > max_y\n",
    "        max_y = p_y\n",
    "        time_y = t\n",
    "    end\n",
    "\n",
    "    if p_xs > max_xs\n",
    "        max_xs = p_xs\n",
    "        time_xs = t\n",
    "    end\n",
    "\n",
    "    #time p_xs becomes zero for the first time\n",
    "    if p_xs <= 0 && t < zero_xs\n",
    "        zero_xs = t\n",
    "        time_zero_xs = t\n",
    "    end\n",
    "\n",
    "    #time p_xs becomes non-zero again\n",
    "    if p_xs > 0 && t > zero_xs && t < nonzero_xs\n",
    "        nonzero_xs = t\n",
    "        time_nonzero_xs = t\n",
    "    end\n",
    "end\n",
    "\n",
    "#in case p_xs never becomes zero\n",
    "if time_zero_xs == 0\n",
    "    time_zero_xs = Inf\n",
    "    time_nonzero_xs = Inf\n",
    "end"
   ]
  },
  {
   "cell_type": "code",
   "execution_count": 22,
   "id": "5693331c",
   "metadata": {},
   "outputs": [
    {
     "name": "stdout",
     "output_type": "stream",
     "text": [
      "The pulse hits the y-axis at: 0.75\n",
      "The pulse return to (x_s, 0) at: 2.5\n"
     ]
    }
   ],
   "source": [
    "\n",
    "println(\"The pulse hits the y-axis at: \", time_y)\n",
    "println(\"The pulse returns to (x_s, 0) at: \", time_nonzero_xs)"
   ]
  },
  {
   "cell_type": "markdown",
   "id": "1050c2f1",
   "metadata": {},
   "source": [
    "Let's also generate a gif-animation of the pressure field from $t=0$ to $t=8$ on the domain $(x,y) \\in (\\epsilon, 3.4)\\times (-2.2,2.2)$, where $\\epsilon=0.001$. Use 65 equidistant points to resolve the $x$ and $y$ dimensions, and 33 equidistant time steps."
   ]
  },
  {
   "cell_type": "code",
   "execution_count": null,
   "id": "939e2163",
   "metadata": {},
   "outputs": [],
   "source": [
    "#parameters\n",
    "Nx=65;\n",
    "Ny=65;\n",
    "\n",
    "Nt=33\n",
    "t0 = 0.000\n",
    "t1 = 8.0\n",
    "\n",
    "c=0.05\n",
    "ϵ=0.001\n",
    "\n",
    "x=range(ϵ, 3.4, length=Nx)\n",
    "y=range(-2.2, 2.2, length=Ny)\n",
    "t=LinRange(t0, t1, Nt)\n",
    "\n",
    "for i =1:Nt\n",
    "    time=t[i]\n",
    "\n",
    "    f(x, y) = begin\n",
    "        r = sqrt((x + c * time)^2 + y^2)\n",
    "        pressure_field(time, r, x/r, A, b, xs)\n",
    "    end\n",
    "\n",
    "    Plots.contour(x, y, f, fill=true, c=:cividis)\n",
    "    plt=Plots.title!(\"Time = \" * string(time) * \" seconds\")\n",
    "    Plots.png(plt,\"./figures/anim_figs/bonus-I/$(lpad(i,6,\"0\")).png\")\n",
    "end\n",
    "\n",
    "fnames=[Printf.@sprintf(\"./figures/anim_figs/bonus-I/%06d.png\", i) for i =1:Nt]\n",
    "\n",
    "an=Animation(\"./figures/anim_figs/bonus-I/\", fnames)\n",
    "Plots.buildanimation(an,\"./figures/animation/Animation-bonusI.gif\", fps=1)"
   ]
  },
  {
   "cell_type": "markdown",
   "id": "16575a4b",
   "metadata": {},
   "source": [
    "Now, we are creating a multi-threaded variant of our function and also generating a high-resolution gif-animation of the pressure field from $t=0$ to $t=8$ on the domain $(x,y) \\in (\\epsilon, 3.4)\\times (-2.2,2.2)$, where $\\epsilon=0.001$. \n",
    "\n",
    "We use 129 equidistant points to resolve the $x$ and $y$ dimensions, and 81 equidistant time steps."
   ]
  },
  {
   "attachments": {},
   "cell_type": "markdown",
   "id": "555b9f29",
   "metadata": {},
   "source": [
    "Note: Ran with 4 cores."
   ]
  },
  {
   "cell_type": "code",
   "execution_count": null,
   "id": "f3d2218b",
   "metadata": {},
   "outputs": [],
   "source": [
    "using Base.Threads\n",
    "\n",
    "#parameters\n",
    "Nx = 129\n",
    "Ny = 129\n",
    "\n",
    "Nt = 81\n",
    "t0 = 0.000\n",
    "t1 = 8.0\n",
    "\n",
    "x = range(0.001, 3.4, Nx)\n",
    "y = range(-2.2, 2.2, Ny)\n",
    "t = LinRange(t0, t1, Nt)\n",
    "\n",
    "#multi-threaded variant of the function.\n",
    "function pressure_field_mt(Nx, Ny, Nt, x, y, times, c, theta, A, b, xs)\n",
    "    pressure_values = Array{Float64}(undef, Nx, Ny, Nt)\n",
    "\n",
    "    #looping through time steps in parallel.\n",
    "    @threads for i in 1:Nt\n",
    "        time = times[i]\n",
    "\n",
    "        #looping through x and y points in parallel.\n",
    "        Threads.@threads for j in 1:Nx\n",
    "            for k in 1:Ny\n",
    "                r = sqrt((x[j] + c * time)^2 + y[k]^2)\n",
    "                pressure_values[k, j, i] = pressure_field(time, r, x[j]/r, A, b, xs)\n",
    "            end\n",
    "        end\n",
    "    end\n",
    "\n",
    "    return pressure_values\n",
    "end\n",
    "\n",
    "pressure_values = pressure_field_mt(Nx, Ny, Nt, x, y, times, c, theta, A, b, xs)\n",
    "\n",
    "for i in 1:Nt\n",
    "    plt = Plots.contour(x, y, pressure_values[:, :, i], fill = true, c=:cividis)\n",
    "    plt = Plots.title!(plt, \"Time = \" * string(times[i]) * \" seconds\")\n",
    "    Plots.png(plt, \"./figures/anim_figs/bonus-J/$(lpad(i, 6, \"0\")).png\")\n",
    "end\n",
    "\n",
    "fnames = [Printf.@sprintf(\"./figures/anim_figs/bonus-J/%06d.png\", i) for i in 1:Nt]\n",
    "an = Animation(\"./figures/anim_figs/bonus-J/\", fnames)\n",
    "Plots.buildanimation(an, \"./figures/animation/Animation_bonusJ.gif\", fps = 3)"
   ]
  }
 ],
 "metadata": {
  "kernelspec": {
   "display_name": "Julia 1.8.5",
   "language": "julia",
   "name": "julia-1.8"
  },
  "language_info": {
   "file_extension": ".jl",
   "mimetype": "application/julia",
   "name": "julia",
   "version": "1.8.5"
  }
 },
 "nbformat": 4,
 "nbformat_minor": 5
}
